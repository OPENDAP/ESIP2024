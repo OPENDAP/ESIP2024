{
 "cells": [
  {
   "cell_type": "markdown",
   "id": "9c7cc75e-6d95-4ffe-8227-25810e878b9a",
   "metadata": {},
   "source": [
    "<span style='color:#009999'> <span style='font-family:serif'> <font size=\"15\"> **Getting Started:<span style='color:#0066cc'> Setting EARTHDATA Access**\n",
    "    \n",
    "    \n",
    "<img src=\"img/EarthData.png\" alt=\"drawing\" width=\"750\"/>    \n",
    " \n",
    "\n",
    "\n",
    " <span style='color:#ff6666'><font size=\"5\"> **Additional Requirements**\n",
    "1. <font size=\"3\">Go to the [Login Page](https://urs.earthdata.nasa.gov/home) and set up a Username and Password.\n",
    "2. <font size=\"3\">Generate a Bearer Token.\n",
    "3. <font size=\"3\">Copy the Bearer Token onto clipboard.\n",
    "\n",
    "<img src=\"img/EDLtoken.png\" alt=\"drawing\" width=\"750\"/>    \n",
    "\n",
    "\n",
    "\n",
    "\n",
    " <span style='color:#ff6666'><font size=\"5\"> **Objectives**\n",
    "- <font size=\"3\"><span style='color:Black'>To demonstrate remote access via tokens to EarthNASA Data.\n",
    "- <font size=\"3\"><span style='color:Black'>To setup a local storage that allows programatic import of Earthdata Login to be used in other notebooks.\n",
    "\n"
   ]
  },
  {
   "cell_type": "code",
   "execution_count": null,
   "id": "1c0ccde6-3f2e-4bef-9d31-92a48064c64a",
   "metadata": {},
   "outputs": [],
   "source": [
    "import matplotlib.pyplot as plt\n",
    "import numpy as np\n",
    "import requests\n",
    "from pydap.client import open_url\n",
    "import json"
   ]
  },
  {
   "cell_type": "markdown",
   "id": "51b2528c-a02f-44cf-b826-408da0307dd7",
   "metadata": {},
   "source": [
    "<span style='font-family:serif'> <font size=\"5.5\"><span style='color:#0066cc'> **Access EARTHDATA**\n",
    "\n",
    "<font size=\"3\"><span style='color:Black'> For now, lets look into Sea Surface Temperature data from GHRSST for 2022-08-12. The URL is provided below.\n",
    "\n"
   ]
  },
  {
   "cell_type": "code",
   "execution_count": null,
   "id": "bd91ee43-126d-4610-a477-18957c5d583b",
   "metadata": {},
   "outputs": [],
   "source": [
    "dataset_url = \"https://opendap.earthdata.nasa.gov/collections/C2036877806-POCLOUD/granules/20220812010000-OSISAF-L3C_GHRSST-SSTsubskin-GOES16-ssteqc_goes16_20220812_010000-v02.0-fv01.0\"\n",
    "print (\"dataset_url: \", dataset_url)"
   ]
  },
  {
   "cell_type": "markdown",
   "id": "e42227da-e377-4bca-ad5f-b1331b38ffb2",
   "metadata": {},
   "source": [
    "<span style='font-family:serif'> <font size=\"5.5\"><span style='color:#0066cc'> **Copy Token data**\n"
   ]
  },
  {
   "cell_type": "code",
   "execution_count": null,
   "id": "2a407105-4897-44bf-827a-db7d5bd94e99",
   "metadata": {},
   "outputs": [],
   "source": [
    "# This gets the EDL token from the users keyboard.\n",
    "edl_token=input(\"EDL Token Value: \")\n",
    "\n",
    "auth_hdr=\"Bearer \"+edl_token"
   ]
  },
  {
   "cell_type": "markdown",
   "id": "cda8030f-5dba-433d-b9ec-31a88c0268a3",
   "metadata": {},
   "source": [
    "<span style='font-family:serif'> <font size=\"5.5\"><span style='color:#0066cc'> **Define a session with requests library**\n",
    "\n",
    "<font size=\"3\"><span style='color:Black'> Here, you assign the TOKEN data with the `Authorization: Bearer` header to a `request.session()`.\n"
   ]
  },
  {
   "cell_type": "code",
   "execution_count": null,
   "id": "d72eb274-7a10-4bab-9291-7c3406809756",
   "metadata": {},
   "outputs": [],
   "source": [
    "my_session = requests.Session()\n",
    "my_session.headers={\"Authorization\": auth_hdr}"
   ]
  },
  {
   "cell_type": "markdown",
   "id": "fb5a3b00-74d9-40e6-b46a-2e8ccfbfca38",
   "metadata": {},
   "source": [
    "<span style='font-family:serif'> <font size=\"5.5\"><span style='color:#0066cc'> **You can now access data via an enable Client**\n",
    "\n",
    "<font size=\"3\"><span style='color:Black'> Here we will use <span style='color:#ff6666'>**PyDAP**<span style='color:black'>, which can lazily create a dataset object using the remote **metadata** information\n"
   ]
  },
  {
   "cell_type": "code",
   "execution_count": null,
   "id": "800b6154-4c97-46e9-b093-55db156c63f0",
   "metadata": {},
   "outputs": [],
   "source": [
    "%%time\n",
    "dataset = open_url(dataset_url, session=my_session, protocol=\"dap4\")"
   ]
  },
  {
   "cell_type": "markdown",
   "id": "d5e618fe-bf82-4eee-a3d1-cd42a3c7960f",
   "metadata": {},
   "source": [
    "<span style='font-family:serif'> <font size=\"5.5\"><span style='color:#0066cc'> **Inspect data without downloading**\n",
    "\n",
    "<font size=\"3.5\"> We can use the `tree` function within <span style='color:#ff6666'>**PyDAP**<span style='color:black'> to inspect all variables available from the dataset. \n",
    "\n",
    "<font size=\"3.5\"> The dataset behaves like a directory and so you can \n",
    "- <font size=\"3.5\"> navigate the dataset\n",
    "- <font size=\"3.5\"> inspect the metadata of dataset, variables\n",
    "- <font size=\"3.5\"> inspect the shape of variables, (uncompressed) memory space, etc"
   ]
  },
  {
   "cell_type": "code",
   "execution_count": null,
   "id": "a6f0f278-68ae-4e12-90e3-47caeb1ab994",
   "metadata": {},
   "outputs": [],
   "source": [
    "dataset.tree()"
   ]
  },
  {
   "cell_type": "code",
   "execution_count": null,
   "id": "78f1d3b3-f78b-48bb-a077-7e85dac92b07",
   "metadata": {},
   "outputs": [],
   "source": [
    "dataset['sea_surface_temperature'].shape"
   ]
  },
  {
   "cell_type": "code",
   "execution_count": null,
   "id": "72ab29a7-c0d5-4202-bedd-e9395e6c5fec",
   "metadata": {},
   "outputs": [],
   "source": [
    "dataset['sea_surface_temperature'].attributes"
   ]
  },
  {
   "cell_type": "code",
   "execution_count": null,
   "id": "3cc5b19d-0d0e-41c3-85dc-1a51c9ed7ca0",
   "metadata": {},
   "outputs": [],
   "source": [
    "print('uncompressed dataset size [GBs]: ', dataset.nbytes / 1e9)"
   ]
  },
  {
   "cell_type": "markdown",
   "id": "8c85a8c2-0c00-4ba1-a729-486762146a2a",
   "metadata": {},
   "source": [
    "<span style='color:#ff6666'><font size=\"6.5\"> **Activity** :<font size=\"5\"> <span style='color:#0066cc'>**Store Token locally to facilitate import**\n",
    "\n",
    "<font size=\"3\"> The code below will store the `Token Credentials` needed to access EarthData via pydap locally in a file called `token.json`.\n",
    "\n",
    "<font size=\"3\"> Data in `token.json` will be imported in other notebooks for use when accessing EarthData.\n",
    "\n"
   ]
  },
  {
   "cell_type": "code",
   "execution_count": null,
   "id": "0810ff29-2db5-41e5-9bb3-3f25cd336d7b",
   "metadata": {},
   "outputs": [],
   "source": [
    "credentials = {\"Authorization\": auth_hdr}\n",
    "\n",
    "with open('token.json', 'w') as fp:\n",
    "    json.dump(credentials, fp)"
   ]
  },
  {
   "cell_type": "markdown",
   "id": "88226257-eede-4b80-9954-7821bd88fdf3",
   "metadata": {},
   "source": [
    "<font size=\"3.5\"> Import Token authorization, and use it to access the same data URL by creating a new Session.\n"
   ]
  },
  {
   "cell_type": "code",
   "execution_count": null,
   "id": "25e602ab-541a-45a9-88f4-8bd9a5e8fa18",
   "metadata": {},
   "outputs": [],
   "source": [
    "# load token json data\n",
    "with open('token.json', 'r') as fp:\n",
    "    Authorization = json.load(fp)\n",
    "\n",
    "# pass Token Authorization to a new Session.\n",
    "my_session = requests.Session()\n",
    "my_session.headers = Authorization"
   ]
  },
  {
   "cell_type": "code",
   "execution_count": null,
   "id": "fa983632-de6f-4355-a1ea-9c08477d8714",
   "metadata": {},
   "outputs": [],
   "source": [
    "%%time\n",
    "dataset = open_url(dataset_url, session=my_session, protocol=\"dap4\")"
   ]
  },
  {
   "cell_type": "code",
   "execution_count": null,
   "id": "b948809b-7fa2-46ea-857e-60fb88db1b0c",
   "metadata": {},
   "outputs": [],
   "source": [
    "dataset.tree()"
   ]
  },
  {
   "cell_type": "code",
   "execution_count": null,
   "id": "18653572-e5e1-49d8-bb4e-1501c0432319",
   "metadata": {},
   "outputs": [],
   "source": []
  }
 ],
 "metadata": {
  "kernelspec": {
   "display_name": "Python 3 (ipykernel)",
   "language": "python",
   "name": "python3"
  },
  "language_info": {
   "codemirror_mode": {
    "name": "ipython",
    "version": 3
   },
   "file_extension": ".py",
   "mimetype": "text/x-python",
   "name": "python",
   "nbconvert_exporter": "python",
   "pygments_lexer": "ipython3",
   "version": "3.10.14"
  }
 },
 "nbformat": 4,
 "nbformat_minor": 5
}
