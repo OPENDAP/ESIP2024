{
 "cells": [
  {
   "cell_type": "markdown",
   "id": "3617a6bb-760e-46ac-8032-d6c76e9b5007",
   "metadata": {},
   "source": [
    "<span style='color:#009999'> <span style='font-family:serif'> <font size=\"15\"> **SWOT Nadir NALT GDR L2**<span style='color:#0066cc'> \n",
    "\n",
    "<img src=\"img/SWOT.png\" alt=\"drawing\" width=\"750\"/>    \n",
    "\n",
    "<span style='color:#ff6666'><font size=\"5\">**Requirements**\n",
    "1. <font size=\"3\"><span style='color:Black'> Have a Bearer Token for EarthData in the Cloud (See `GetStarted` Notebook).\n",
    "2. <font size=\"3\"><span style='color:Black'> Upload the Bearer Token from local file`token.json`\n",
    "\n",
    "\n",
    " <span style='color:#ff6666'><font size=\"5\">**Objectives**\n",
    "- <font size=\"3\"><span style='color:Black'> Understand `Dimensions`, `Groups`, `Maps` and `Arrays` in the DAP4 model.\n",
    "- <font size=\"3\"><span style='color:Black'> Develop understanding of metadata of remote files accessed via OPeNDAP.\n",
    "- <font size=\"3\"><span style='color:Black'> To demonstrate a workflow for remote access and plotting of Complex (**Level 2** with Groups)  SWOT Data via OPeNDAP\n",
    "\n",
    "\n",
    "\n",
    "<span style='color:#ff6666'><font size=\"5\"> **Browsing Data**:\n",
    "\n",
    "<font size=\"3\"><span style='color:Black'> Broad information about the dataset can be found in the PODAAC website (see [here](https://podaac.jpl.nasa.gov/dataset/SWOT_L2_NALT_GDR_2.0))\n"
   ]
  },
  {
   "cell_type": "code",
   "execution_count": null,
   "id": "01a3f9ed-8a07-4ada-8418-7df15cd45bae",
   "metadata": {},
   "outputs": [],
   "source": [
    "import matplotlib.pyplot as plt\n",
    "import numpy as np\n",
    "import requests\n",
    "from pydap.client import open_url\n",
    "import json\n",
    "import cartopy.crs as ccrs"
   ]
  },
  {
   "cell_type": "markdown",
   "id": "bc8051f7-d40d-4f77-bc26-1adac42554c7",
   "metadata": {},
   "source": [
    "<span style='font-family:serif'> <font size=\"5.5\"><span style='color:#0066cc'> **Access EARTHDATA**\n",
    "\n",
    "<font size=\"3\"><span style='color:Black'> The access link can be found at [PODACC](https://podaac.jpl.nasa.gov/dataset/SWOT_L2_NALT_GDR_2.0). This may require to be logged on to EarthDataLogin. There is data for 2023 and 2024.  \n",
    "\n"
   ]
  },
  {
   "cell_type": "code",
   "execution_count": null,
   "id": "27fece5c-7eb0-4383-aeb7-1ae35e7d42de",
   "metadata": {},
   "outputs": [],
   "source": [
    "data_url1 = 'https://opendap.earthdata.nasa.gov/collections/C2799438313-POCLOUD/granules/SWOT_GPR_2PfP507_010_20230501_003247_20230501_012352'\n",
    "data_url2 = 'https://opendap.earthdata.nasa.gov/collections/C2799438313-POCLOUD/granules/SWOT_GPN_2PfP006_350_20231115_003412_20231115_012539'"
   ]
  },
  {
   "cell_type": "markdown",
   "id": "a8b3e8bc-975c-4177-ae66-106744eb766c",
   "metadata": {},
   "source": [
    "<span style='font-family:serif'> <font size=\"5.5\"><span style='color:#0066cc'> **Import Token Authorization and create Session**\n",
    " \n"
   ]
  },
  {
   "cell_type": "code",
   "execution_count": null,
   "id": "c6e5d717-2bbc-4240-ba8a-969bf739054b",
   "metadata": {},
   "outputs": [],
   "source": [
    "# load token json data\n",
    "with open('token.json', 'r') as fp:\n",
    "    Authorization = json.load(fp)\n",
    "\n",
    "# pass Token Authorization to a new Session.\n",
    "my_session = requests.Session()\n",
    "my_session.headers = Authorization\n"
   ]
  },
  {
   "cell_type": "markdown",
   "id": "a8843f87-b74a-4f07-9404-5683b30ca40a",
   "metadata": {},
   "source": [
    "<span style='font-family:serif'> <font size=\"5.5\"><span style='color:#0066cc'> **Create dataset access via pydap**\n",
    "\n",
    "\n"
   ]
  },
  {
   "cell_type": "code",
   "execution_count": null,
   "id": "3addad2e-120c-4c4a-b43e-8ad11e4c0dd1",
   "metadata": {},
   "outputs": [],
   "source": [
    "%%time\n",
    "dataset1 = open_url(data_url1, session=my_session, protocol=\"dap4\")"
   ]
  },
  {
   "cell_type": "code",
   "execution_count": null,
   "id": "96dfbb4c-3a6a-48fb-b05a-85f37ddab0cb",
   "metadata": {},
   "outputs": [],
   "source": [
    "dataset1.tree()"
   ]
  },
  {
   "cell_type": "markdown",
   "id": "87df15dd-0609-4fad-97a8-5347f0b877e6",
   "metadata": {},
   "source": [
    "<span style='font-family:serif'> <font size=\"5.5\"><span style='color:#0066cc'> **This is a dataset pointing to a remote data location**\n",
    "\n",
    "\n",
    "<font size=\"3\"><span style='color:Black'> Data remains remote, no data has been downloaded."
   ]
  },
  {
   "cell_type": "code",
   "execution_count": null,
   "id": "2b7d35f7-4e14-4716-accd-c52672be7662",
   "metadata": {},
   "outputs": [],
   "source": [
    "dataset1['data_01/ku/swh_ocean'].shape"
   ]
  },
  {
   "cell_type": "code",
   "execution_count": null,
   "id": "d3a12d20-a0bb-48e1-b581-eec4d32c58d9",
   "metadata": {},
   "outputs": [],
   "source": [
    "dataset1['data_01/time'].shape"
   ]
  },
  {
   "cell_type": "code",
   "execution_count": null,
   "id": "b41357b2-96d8-48d7-9cdf-f1bdc629306d",
   "metadata": {},
   "outputs": [],
   "source": [
    "print('total array memory: ', dataset1.nbytes/1e9)"
   ]
  },
  {
   "cell_type": "markdown",
   "id": "160973fd-44d1-4dba-8f52-158cbec4df7a",
   "metadata": {},
   "source": [
    "<span style='font-family:serif'> <font size=\"5.5\"><span style='color:#0066cc'> **Inspect the values**\n",
    "\n",
    "\n",
    "- <font size=\"3\"><span style='color:Black'> `longitude`\n",
    "- <font size=\"3\"><span style='color:Black'> `latitude`\n",
    "- <font size=\"3\"><span style='color:Black'> `time`\n",
    "\n"
   ]
  },
  {
   "cell_type": "code",
   "execution_count": null,
   "id": "59f6ee46-7e08-4462-a308-5a5208ab0d60",
   "metadata": {},
   "outputs": [],
   "source": [
    "dataset1['data_01/time'].attributes"
   ]
  },
  {
   "cell_type": "code",
   "execution_count": null,
   "id": "9d6757d1-f4b4-4409-b48c-31671299ef8f",
   "metadata": {},
   "outputs": [],
   "source": [
    "%%time\n",
    "swh_ocean = dataset1['/data_01/ku/swh_ocean'][:] # downloads as BaseType - a thin wrapper for numpy arrays"
   ]
  },
  {
   "cell_type": "markdown",
   "id": "f777c9d9-5a19-479e-b318-c45b9369cbae",
   "metadata": {},
   "source": [
    "<span style='font-family:serif'> <font size=\"5.5\"><span style='color:#0066cc'> **Maps**\n",
    "\n",
    "<font size=\"3\"><span style='color:Black'>  Refers to the coverage of the Satellite track. This is, how the trajectory \"**maps**\" with time (dimension)"
   ]
  },
  {
   "cell_type": "code",
   "execution_count": null,
   "id": "12208668-b188-464d-916f-cbd2d04f222d",
   "metadata": {},
   "outputs": [],
   "source": [
    "swh_ocean.Maps"
   ]
  },
  {
   "cell_type": "code",
   "execution_count": null,
   "id": "4e7b1073-8f58-4a08-8b9f-03abc4b9b516",
   "metadata": {},
   "outputs": [],
   "source": [
    "%%time\n",
    "longitude1 = dataset1[swh_ocean.Maps[0]][:]\n",
    "latitude1 = dataset1[swh_ocean.Maps[1]][:]"
   ]
  },
  {
   "cell_type": "code",
   "execution_count": null,
   "id": "a731f247-462f-489b-a7be-931bb0ede9f2",
   "metadata": {},
   "outputs": [],
   "source": [
    "longitude1.attributes"
   ]
  },
  {
   "cell_type": "code",
   "execution_count": null,
   "id": "52309ed1-66b3-465f-8989-47ecf1427c36",
   "metadata": {},
   "outputs": [],
   "source": [
    "latitude1.attributes"
   ]
  },
  {
   "cell_type": "markdown",
   "id": "ebf392a4-e3bf-4064-8226-845c993854f1",
   "metadata": {},
   "source": [
    "\n",
    "\n",
    "<span style='color:#ff6666'><font size=\"5\">**CF - Conventions**\n",
    "\n",
    "<font size=\"3\"><span style='color:Black'> In OPeNDAP's metadata rich datasets, each contains standard attributes used to describe missing data, units in which the data is presented, and any stretching/scaling of the values. \n",
    "\n",
    "- <font size=\"3\"><span style='color:Black'> `standard name`\n",
    "- <font size=\"3\"><span style='color:Black'> `units`\n",
    "- <font size=\"3\"><span style='color:Black'> `_FillValue`\n",
    "- <font size=\"3\"><span style='color:Black'> `scale_factor`\n",
    "- <font size=\"3\"><span style='color:Black'> `off_set`\n",
    "\n",
    "<span style='font-family:serif'> <font size=\"5.5\"><span style='color:#0066cc'> **Decode Values**\n",
    "\n",
    "\n"
   ]
  },
  {
   "cell_type": "code",
   "execution_count": null,
   "id": "e5e5794f-1b77-4148-9809-d3fc5a3def60",
   "metadata": {},
   "outputs": [],
   "source": [
    "def decode(variable) -> np.ndarray:\n",
    "    \"\"\"Decodes the variable BaseType according with atributes:\n",
    "        _FillValue\n",
    "        scale_factor\n",
    "    \"\"\"\n",
    "    scale_factor = 1\n",
    "    _Fill_value = None\n",
    "\n",
    "    if 'scale_factor' in variable.attributes:\n",
    "        scale_factor = variable.scale_factor\n",
    "    if '_FillValue' in variable.attributes:\n",
    "        data = np.where(variable.data == variable._FillValue, np.nan, variable.data)    \n",
    "    else:\n",
    "        data = variable.data\n",
    "    return scale_factor * data"
   ]
  },
  {
   "cell_type": "markdown",
   "id": "fb0ded37-2cd4-44ea-a1a1-52f4b556a2a3",
   "metadata": {},
   "source": [
    "<span style='font-family:serif'> <font size=\"5.5\"><span style='color:#0066cc'> **Plotting tools**\n",
    "\n",
    "<font size=\"3\"><span style='color:Black'> OPeNDAP does NOT include a plotting service, but OPeNDAP-served data integrates easily with plotting packages like\n",
    "- <font size=\"3\"><span style='color:Black'> Matplotlib\n",
    "- <font size=\"3\"><span style='color:Black'> Cartopy\n"
   ]
  },
  {
   "cell_type": "code",
   "execution_count": null,
   "id": "0077d6a2-004e-4df9-a9b6-359a752cf5f7",
   "metadata": {},
   "outputs": [],
   "source": [
    "plt.figure(figsize=(15, 5))\n",
    "ax = plt.axes(projection=ccrs.PlateCarree())\n",
    "ax.set_global()\n",
    "ax.coastlines()\n",
    "ax.stock_img() # comment this line if you do not want any background color\n",
    "plt.scatter(x=decode(longitude1), y=decode(latitude1), c=decode(swh_ocean), marker='.',  cmap='jet')\n",
    "plt.colorbar().set_label(swh_ocean.name + ' ['+swh_ocean.units+']')"
   ]
  },
  {
   "cell_type": "code",
   "execution_count": null,
   "id": "6d7a11e0-6dce-47c1-b892-5aac9d9b0f43",
   "metadata": {},
   "outputs": [],
   "source": [
    "plt.figure(figsize=(10, 5))\n",
    "plt.plot(decode(swh_ocean), 'k', lw=3)\n",
    "plt.ylabel(swh_ocean.name + ' ['+swh_ocean.units+']', fontsize=15)\n",
    "plt.xlabel('Along Track Samples', fontsize=15)\n",
    "plt.show()"
   ]
  },
  {
   "cell_type": "markdown",
   "id": "4b170e5a-6b9c-4868-90d8-f7fcb82e4cd9",
   "metadata": {},
   "source": [
    "<span style='color:#ff6666'><font size=\"5\">**Plot Exercise**\n",
    "\n",
    "<font size=\"3\"><span style='color:Black'> Choose a different variable, over a different time range, access a different OPeNDAP URL. Make sure to\n",
    "adjust the:\n",
    "\n",
    "- <font size=\"3\"> longitudes.\n",
    "- <font size=\"3\"> latitudes.\n",
    "- <font size=\"3\"> standard name.\n",
    "- <font size=\"3\"> units."
   ]
  },
  {
   "cell_type": "markdown",
   "id": "42b81c1a-4bb0-44bb-945c-b9fc7202c02e",
   "metadata": {},
   "source": [
    "<span style='font-family:serif'> <font size=\"5.5\"><span style='color:#0066cc'> **You can inspect other data URL**\n",
    "\n",
    "\n",
    "<font size=\"3.5\"> `data_url2` is already defined above, but you can browse the catalog [here](https://cmr.earthdata.nasa.gov/virtual-directory/collections/C2799438313-POCLOUD/temporal).\n"
   ]
  },
  {
   "cell_type": "code",
   "execution_count": null,
   "id": "abf67d95-c505-42d8-9359-38a3d3cc3156",
   "metadata": {},
   "outputs": [],
   "source": [
    "%%time\n",
    "dataset2 = open_url(data_url2, session=my_session, protocol=\"dap4\")"
   ]
  },
  {
   "cell_type": "code",
   "execution_count": null,
   "id": "60c381b4-ef4e-4eb2-bc37-5b0299956eaf",
   "metadata": {},
   "outputs": [],
   "source": [
    "dataset2.tree()"
   ]
  },
  {
   "cell_type": "code",
   "execution_count": null,
   "id": "9ef415e4-ce25-4384-ac58-23f18b264432",
   "metadata": {},
   "outputs": [],
   "source": []
  }
 ],
 "metadata": {
  "kernelspec": {
   "display_name": "Python 3 (ipykernel)",
   "language": "python",
   "name": "python3"
  },
  "language_info": {
   "codemirror_mode": {
    "name": "ipython",
    "version": 3
   },
   "file_extension": ".py",
   "mimetype": "text/x-python",
   "name": "python",
   "nbconvert_exporter": "python",
   "pygments_lexer": "ipython3",
   "version": "3.10.14"
  }
 },
 "nbformat": 4,
 "nbformat_minor": 5
}
