{
 "cells": [
  {
   "cell_type": "markdown",
   "id": "2ab1781b-9318-4fda-a523-71a60f87aa44",
   "metadata": {},
   "source": [
    "<span style='color:#009999'> <span style='font-family:serif'> <font size=\"15\"> **PACE: Ocean Color Data**<span style='color:#0066cc'> \n",
    "\n",
    "<img src=\"img/PACE.png\" alt=\"drawing\" width=\"750\"/>    \n",
    "\n",
    "<img src=\"img/PACE_CHLa.png\" alt=\"drawing\" width=\"750\"/>    \n",
    "\n",
    "\n",
    "\n",
    "\n",
    "<span style='color:#ff6666'><font size=\"5\"> **Requirements**\n",
    "1. <font size=\"3\"><span style='color:Black'> Have a Bearer Token for EarthData in the Cloud (See Getting Started Notebook).\n",
    "2. <font size=\"3\"><span style='color:Black'> Upload the Bearer Token from local file`token.json`\n",
    "\n",
    "\n",
    "\n",
    " <span style='color:#ff6666'><font size=\"5\"> **Objectives**\n",
    "- <font size=\"3\"><span style='color:Black'> To access `PACE` data via OPeNDAP URL.\n",
    "- <font size=\"3\"><span style='color:Black'> To interactively inspect remote data, and figure out subsetting region (if any)\n",
    "- <font size=\"3\"><span style='color:Black'>  Understand differences in DAP2 and DAP4 (data representation, access)\n",
    "- <font size=\"3\"><span style='color:Black'> To demonstrate a workflow that exploits xarray parallelism. and DAP4 representation\n",
    "\n",
    "\n",
    "\n",
    "<span style='color:#ff6666'><font size=\"5\"> **Browsing Data**:\n",
    "\n",
    "<font size=\"3\"><span style='color:Black'> Broad information about the dataset can be found on the PACE website (see [here](https://oceandata.sci.gsfc.nasa.gov))\n"
   ]
  },
  {
   "cell_type": "code",
   "execution_count": null,
   "id": "0fa31dfb-2d83-4e74-b672-57a7c1da0f21",
   "metadata": {},
   "outputs": [],
   "source": [
    "import matplotlib.pyplot as plt\n",
    "import numpy as np\n",
    "import requests\n",
    "from pydap.client import open_url\n",
    "import json\n",
    "import cartopy.crs as ccrs"
   ]
  },
  {
   "cell_type": "markdown",
   "id": "c600be3d-cb1b-45e2-a3ee-19cffda4511e",
   "metadata": {},
   "source": [
    "<span style='font-family:serif'> <font size=\"5.5\"><span style='color:#0066cc'> **PACE Access via OPeNDAP**\n",
    "\n",
    "<font size=\"3\"><span style='color:Black'> The PACE OPeNDAP data catalog can be found [here](https://oceandata.sci.gsfc.nasa.gov/opendap/PACE_OCI/L3SMI/2024/contents.html). Data only starts in 2024.\n"
   ]
  },
  {
   "cell_type": "code",
   "execution_count": null,
   "id": "ca9ed69f-d06a-4f77-a274-cfe8dcf260d3",
   "metadata": {},
   "outputs": [],
   "source": [
    "# slow download URL / higher resolution\n",
    "url_DAP4 = \"http://oceandata.sci.gsfc.nasa.gov/opendap/PACE_OCI/L3SMI/2024/0310/PACE_OCI.20240310.L3m.DAY.CHL.V2_0.chlor_a.4km.NRT.nc\"\n",
    "\n",
    "# This Dataset has no missing data and downloads much faster.\n",
    "url = \"http://oceandata.sci.gsfc.nasa.gov/opendap/PACE_OCI/L3SMI/2024/0301/PACE_OCI.20240301_20240331.L3m.MO.CHL.V2_0.chlor_a.0p1deg.NRT.nc\"\n"
   ]
  },
  {
   "cell_type": "markdown",
   "id": "ce21fee0-5d50-459e-930a-573af6488758",
   "metadata": {},
   "source": [
    "<span style='font-family:serif'> <font size=\"5.5\"><span style='color:#0066cc'> **Import Token Authorization and create Session**\n",
    " "
   ]
  },
  {
   "cell_type": "code",
   "execution_count": null,
   "id": "3dc75b1f-ec11-4ae3-bd1d-9f4c5dc2939e",
   "metadata": {},
   "outputs": [],
   "source": [
    "# load token json data\n",
    "with open('token.json', 'r') as fp:\n",
    "    Authorization = json.load(fp)\n",
    "\n",
    "# pass Token Authorization to a new Session.\n",
    "my_session = requests.Session()\n",
    "my_session.headers = Authorization\n"
   ]
  },
  {
   "cell_type": "code",
   "execution_count": null,
   "id": "9add5aa3-35b8-4c4b-9e12-7f5f84f5ce5a",
   "metadata": {},
   "outputs": [],
   "source": [
    "%%time\n",
    "ds = open_url(url_DAP4, session=my_session, protocol='dap4')"
   ]
  },
  {
   "cell_type": "code",
   "execution_count": null,
   "id": "52d3e3ce-4f42-4e0a-9137-f4c7c67117d0",
   "metadata": {},
   "outputs": [],
   "source": [
    "%%time\n",
    "ds = open_url(url, session=my_session, protocol='dap4')"
   ]
  },
  {
   "cell_type": "code",
   "execution_count": null,
   "id": "ca03f8e2-9332-40ad-a8f7-6fee884f7763",
   "metadata": {},
   "outputs": [],
   "source": [
    "ds.tree()"
   ]
  },
  {
   "cell_type": "code",
   "execution_count": null,
   "id": "95b0f38f-5e59-469f-9476-e972d1448f1a",
   "metadata": {},
   "outputs": [],
   "source": [
    "ds['chlor_a'].attributes"
   ]
  },
  {
   "cell_type": "code",
   "execution_count": null,
   "id": "b98aaa22-b04f-4c81-844c-f143c714473a",
   "metadata": {},
   "outputs": [],
   "source": [
    "print('uncompressed dataset size [GBs]: ', ds.nbytes / 1e9)"
   ]
  },
  {
   "cell_type": "code",
   "execution_count": null,
   "id": "bdfc0282-0c00-4fa4-aa8d-b812c22f94e6",
   "metadata": {},
   "outputs": [],
   "source": [
    "ds['chlor_a'].shape"
   ]
  },
  {
   "cell_type": "code",
   "execution_count": null,
   "id": "8f6c49d0-a405-46a3-a6ed-b57eb4bd1750",
   "metadata": {},
   "outputs": [],
   "source": [
    "print('uncompressed dataset size [GBs]: ', ds['chlor_a'].nbytes / 1e9)"
   ]
  },
  {
   "cell_type": "code",
   "execution_count": null,
   "id": "448dd9a9-a931-4fd6-90ba-41274c5b1748",
   "metadata": {},
   "outputs": [],
   "source": [
    "%%time\n",
    "chlor_a = ds['chlor_a'][:]"
   ]
  },
  {
   "cell_type": "code",
   "execution_count": null,
   "id": "b04a1081-cabc-4e32-89a3-2a8a5b62d1c4",
   "metadata": {},
   "outputs": [],
   "source": [
    "chlor_a.attributes"
   ]
  },
  {
   "cell_type": "code",
   "execution_count": null,
   "id": "93bc863e-2f6a-43fb-960f-0bacbeeb3c40",
   "metadata": {},
   "outputs": [],
   "source": [
    "chlor_a.nbytes/1e9"
   ]
  },
  {
   "cell_type": "markdown",
   "id": "65117756-6e0a-47c2-aaf2-4b23acf72f38",
   "metadata": {},
   "source": [
    "\n",
    "\n",
    "<span style='color:#ff6666'><font size=\"5\">**CF - Conventions**\n",
    "\n",
    "<font size=\"3\"><span style='color:Black'> In OPeNDAP's metadata rich datasets, each contains standard attributes used to describe missing data, units in which the data is presented, and any stretching/scaling of the values. \n",
    "\n",
    "- <font size=\"3\"><span style='color:Black'> `standard name`\n",
    "- <font size=\"3\"><span style='color:Black'> `units`\n",
    "- <font size=\"3\"><span style='color:Black'> `_FillValue`\n",
    "- <font size=\"3\"><span style='color:Black'> `scale_factor`\n",
    "- <font size=\"3\"><span style='color:Black'> `off_set`\n",
    "\n",
    "<span style='font-family:serif'> <font size=\"5.5\"><span style='color:#0066cc'> **Decode Values**\n",
    "\n",
    "\n"
   ]
  },
  {
   "cell_type": "code",
   "execution_count": null,
   "id": "be0dbca6-9996-474b-a5ae-57c8958f3b79",
   "metadata": {},
   "outputs": [],
   "source": [
    "def decode(variable) -> np.ndarray:\n",
    "    \"\"\"Decodes the variable BaseType according with atributes:\n",
    "        _FillValue\n",
    "        scale_factor\n",
    "\n",
    "    Parameters:\n",
    "        variable: BaseType (pydap model)\n",
    "    \"\"\"\n",
    "    scale_factor = 1\n",
    "    _Fillvalue = None\n",
    "\n",
    "    if 'scale_factor' in variable.attributes:\n",
    "        scale_factor = variable.scale_factor\n",
    "    if '_FillValue' in variable.attributes:\n",
    "        data = np.where(variable.data == variable._FillValue, np.nan, variable.data)    \n",
    "    else:\n",
    "        data = variable.data\n",
    "    return scale_factor * data"
   ]
  },
  {
   "cell_type": "code",
   "execution_count": null,
   "id": "d5a7806c-f21f-4a8a-9bd1-33f23005df5c",
   "metadata": {},
   "outputs": [],
   "source": [
    "%%time\n",
    "CHLOR_A = decode(chlor_a)"
   ]
  },
  {
   "cell_type": "code",
   "execution_count": null,
   "id": "2e60a111-a522-44eb-98c7-ad46da7f4f3e",
   "metadata": {},
   "outputs": [],
   "source": [
    "CHLOR_A.shape"
   ]
  },
  {
   "cell_type": "code",
   "execution_count": null,
   "id": "9ed9ae7a-f46e-48f0-af01-9c9129fec70d",
   "metadata": {},
   "outputs": [],
   "source": [
    "Lon, Lat = np.meshgrid(decode(ds['lon'][:]), decode(ds['lat'][:]))"
   ]
  },
  {
   "cell_type": "code",
   "execution_count": null,
   "id": "b82827b8-9317-429f-9511-0e3b99a78158",
   "metadata": {},
   "outputs": [],
   "source": [
    "%%time\n",
    "plt.figure(figsize=(25, 8))\n",
    "ax = plt.axes(projection=ccrs.PlateCarree())\n",
    "ax.set_global()\n",
    "ax.coastlines()\n",
    "plt.contourf(Lon, Lat, np.log(CHLOR_A), 400, cmap='nipy_spectral')\n",
    "plt.colorbar().set_label(chlor_a.name + ' ['+chlor_a.units+']')\n",
    "plt.show()"
   ]
  },
  {
   "cell_type": "markdown",
   "id": "cd954f75-8aa8-4ea1-a4ad-2b3884ec12d3",
   "metadata": {},
   "source": [
    "<span style='color:#ff6666'><font size=\"5\"> **Exercise**\n",
    "\n",
    "\n",
    "<font size=\"3.5\"><span style='color:black'> Using the global map above:\n",
    "- <font size=\"3.5\"> Visually narrow the global domain to a region of interest by subsetting the arrays in index space. \n",
    "- <font size=\"3.5\"> Once you have identified the subdomain of interest, identify the index of the array.\n",
    "- <font size=\"3.5\"> Using the indexes of your (sub)domain of interest, create a constraint expression following the syntax:\n",
    "\n",
    "```python\n",
    "<base_url>?dap.ce=/chlor_a[<index>, <index>];/lat[<index>];/lon[<index>]\n",
    "```\n",
    "- <font size=\"3.5\"> Use the constraint expression to subset your dataset, via pydap + OPeNDAP's Hyrax.\n",
    "- <font size=\"3.5\"> Use the `plot` snippet above but with `ax.set_global()` commented."
   ]
  },
  {
   "cell_type": "code",
   "execution_count": null,
   "id": "10f8c509-c3b6-4898-b839-6377101f9922",
   "metadata": {},
   "outputs": [],
   "source": []
  },
  {
   "cell_type": "code",
   "execution_count": null,
   "id": "8d629c56-c53f-468c-b6f6-7a587414decf",
   "metadata": {},
   "outputs": [],
   "source": []
  }
 ],
 "metadata": {
  "kernelspec": {
   "display_name": "Python 3 (ipykernel)",
   "language": "python",
   "name": "python3"
  },
  "language_info": {
   "codemirror_mode": {
    "name": "ipython",
    "version": 3
   },
   "file_extension": ".py",
   "mimetype": "text/x-python",
   "name": "python",
   "nbconvert_exporter": "python",
   "pygments_lexer": "ipython3",
   "version": "3.10.14"
  }
 },
 "nbformat": 4,
 "nbformat_minor": 5
}
