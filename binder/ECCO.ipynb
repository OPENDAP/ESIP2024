{
 "cells": [
  {
   "cell_type": "markdown",
   "id": "cba3c59f-0eb1-41a1-a531-4cd99d05d8ce",
   "metadata": {},
   "source": [
    "<span style='color:#009999'> <span style='font-family:serif'> <font size=\"15\"> **ECCO from NASA earth Data Cloud**<span style='color:#0066cc'> \n",
    "\n",
    "<img src=\"img/ECCOv4.png\" alt=\"drawing\" width=\"750\"/>    \n",
    "\n",
    "\n",
    "<span style='color:#0066cc'><font size=\"5\"> **About the Estimating the Circulation and Climate of the Ocean\" [ECCO](https://ecco-group.org/) consortium**\n",
    "1. <font size=\"3\"><span style='color:Black'> Uses a combination of assimilated data from (various sources) to constrain the model.\n",
    "2. <font size=\"3\"><span style='color:Black'> The native grid is that of a Cube Sphere, which results in data that has **complex topology**\n",
    "\n",
    "\n",
    "\n",
    "<span style='color:#ff6666'><font size=\"5\">Requirements\n",
    "1. <font size=\"3\"><span style='color:Black'> Have a Bearer Token for EarthData in the Cloud (See Getting Started Notebook).\n",
    "2. <font size=\"3\"><span style='color:Black'> Upload the Bearer Token from local file`token.json`\n",
    "\n",
    "\n",
    "\n",
    " <span style='color:#ff6666'><font size=\"5\">Objectives\n",
    "- <font size=\"3\"><span style='color:Black'> Understand `Dimensions`, `Groups`, `Maps` and `Arrays` in the DAP4 model.\n",
    "- <font size=\"3\"><span style='color:Black'> Develop understanding of metadata of remote files accessed via OPeNDAP.\n",
    "- <font size=\"3\"><span style='color:Black'> How to integrate a workflow involving multiple OPeNDAP URLs and xarray parallelism, lazy evaluation, and\n",
    "- <font size=\"3\"><span style='color:Black'> To demonstrate an advanced workflow for remote access and plotting of **Level 4** with complex Topology ECCOv4 Data via OPeNDAP\n",
    "\n",
    "\n",
    "\n",
    "<span style='color:#ff6666'><font size=\"5\"> Browsing Data:\n",
    "\n",
    "<font size=\"3\"><span style='color:Black'> Broad information about the dataset can be found in the PODAAC website (see [here](https://podaac.jpl.nasa.gov/cloud-datasets?view=list&ids=Projects&values=ECCO))\n",
    "\n",
    "\n",
    "<font size=\"3\"><span style='color:Black'> Some variables or interest are:\n",
    "\n",
    "- <font size=\"3\"> [Native grid](https://podaac.jpl.nasa.gov/dataset/ECCO_L4_GEOMETRY_LLC0090GRID_V4R4)\n",
    "- <font size=\"3\"> [Temperature and Salinity](https://podaac.jpl.nasa.gov/dataset/ECCO_L4_TEMP_SALINITY_LLC0090GRID_MONTHLY_V4R4)\n",
    "- <font size=\"3\"> [Velocities](https://podaac.jpl.nasa.gov/dataset/ECCO_L4_OCEAN_VEL_LLC0090GRID_MONTHLY_V4R4)\n",
    "- <font size=\"3\"> [Mixed layer depth](https://podaac.jpl.nasa.gov/dataset/ECCO_L4_MIXED_LAYER_DEPTH_LLC0090GRID_MONTHLY_V4R4)\n"
   ]
  },
  {
   "cell_type": "code",
   "execution_count": null,
   "id": "dd69f13e-1576-46cc-88bf-8484bf53788f",
   "metadata": {},
   "outputs": [],
   "source": [
    "import matplotlib.pyplot as plt\n",
    "import numpy as np\n",
    "import requests\n",
    "from pydap.client import open_url\n",
    "import json\n",
    "import cartopy.crs as ccrs\n",
    "import dask"
   ]
  },
  {
   "cell_type": "markdown",
   "id": "4d19f749-cd0f-499b-abe7-ffe8139b5ca0",
   "metadata": {},
   "source": [
    "<span style='font-family:serif'> <font size=\"5.5\"><span style='color:#0066cc'> **Access EARTHDATA**\n",
    "\n",
    "<font size=\"3\"><span style='color:Black'> Many of the data variables can be browsed [here](https://podaac.jpl.nasa.gov/cloud-datasets?view=list&ids=Projects&values=ECCO). Two types of data can be found:\n",
    "\n",
    "1. <font size=\"3\"> Interpolated data onto a regular Lat-Lon grid.\n",
    "2. <font size=\"3\"> Data on the native LLC (lat-lon-cap) grid.\n",
    "\n",
    "<font size=\"3\"><span style='color:Black'> Here we will work with the original data defined on the Lat-Lon-Cap (LLC90) grid."
   ]
  },
  {
   "cell_type": "code",
   "execution_count": null,
   "id": "592016ce-36cf-4298-b017-17fee64b5c19",
   "metadata": {},
   "outputs": [],
   "source": [
    "Grid_url = 'dap4://opendap.earthdata.nasa.gov/providers/POCLOUD/collections/ECCO%20Geometry%20Parameters%20for%20the%20Lat-Lon-Cap%2090%20(llc90)%20Native%20Model%20Grid%20(Version%204%20Release%204)/granules/GRID_GEOMETRY_ECCO_V4r4_native_llc0090'"
   ]
  },
  {
   "cell_type": "markdown",
   "id": "df65130f-8837-41d9-8d70-5342f55d94c8",
   "metadata": {},
   "source": [
    "<span style='font-family:serif'> <font size=\"5.5\"><span style='color:#0066cc'> **Import Token Authorization and create Session**\n",
    " \n"
   ]
  },
  {
   "cell_type": "code",
   "execution_count": null,
   "id": "322889ad-dc54-429c-bf48-35476d53bf8a",
   "metadata": {},
   "outputs": [],
   "source": [
    "# load token json data\n",
    "with open('token.json', 'r') as fp:\n",
    "    Authorization = json.load(fp)\n",
    "\n",
    "# pass Token Authorization to a new Session.\n",
    "my_session = requests.Session()\n",
    "my_session.headers = Authorization\n"
   ]
  },
  {
   "cell_type": "markdown",
   "id": "fa0042cb-053d-424b-971c-ed8b0d325725",
   "metadata": {},
   "source": [
    "<span style='font-family:serif'> <font size=\"5.5\"><span style='color:#0066cc'> **Access Lazy access to data via pydap**\n",
    "\n",
    "<font size=\"3\"> No data has yet been downloaded"
   ]
  },
  {
   "cell_type": "code",
   "execution_count": null,
   "id": "5ced1396-be08-4a0b-b487-c430781bd247",
   "metadata": {},
   "outputs": [],
   "source": [
    "%%time\n",
    "ds_grid = open_url(Grid_url, session=my_session, protocol=\"dap4\")"
   ]
  },
  {
   "cell_type": "code",
   "execution_count": null,
   "id": "1bb158d1-7184-4d07-b152-bfb9f6300ffc",
   "metadata": {},
   "outputs": [],
   "source": [
    "ds_grid.tree()"
   ]
  },
  {
   "cell_type": "markdown",
   "id": "bdeafa57-cc97-4c6d-99f1-138ba7d5b432",
   "metadata": {},
   "source": [
    "<span style='font-family:serif'> <font size=\"5.5\"><span style='color:#0066cc'> **Plot Depth along native grid**"
   ]
  },
  {
   "cell_type": "code",
   "execution_count": null,
   "id": "6a987764-bd3c-4385-b52c-8bcbd41038f0",
   "metadata": {},
   "outputs": [],
   "source": [
    "Depth = ds_grid['Depth'][:]"
   ]
  },
  {
   "cell_type": "code",
   "execution_count": null,
   "id": "5789765b-3f19-4101-b337-6c405fc19009",
   "metadata": {},
   "outputs": [],
   "source": [
    "Depth.attributes"
   ]
  },
  {
   "cell_type": "code",
   "execution_count": null,
   "id": "f7689e38-b6c8-47eb-8bc8-f2b8c0251b50",
   "metadata": {},
   "outputs": [],
   "source": [
    "Depth.shape, Depth.dimensions"
   ]
  },
  {
   "cell_type": "code",
   "execution_count": null,
   "id": "eafb837f-baa9-40a2-ba05-226bdff9ec98",
   "metadata": {},
   "outputs": [],
   "source": [
    "%%time\n",
    "Variable = [Depth[i].data for i in range(13)]"
   ]
  },
  {
   "cell_type": "code",
   "execution_count": null,
   "id": "fd406c4b-39aa-4a5d-9fe4-9d769fd455c5",
   "metadata": {},
   "outputs": [],
   "source": [
    "fig, axes = plt.subplots(nrows=5, ncols=5, figsize=(8, 8), gridspec_kw={'hspace':0.01, 'wspace':0.01})\n",
    "AXES = [\n",
    "    axes[4, 0], axes[3, 0], axes[2, 0], axes[4, 1], axes[3, 1], axes[2, 1],\n",
    "    axes[1, 1], \n",
    "    axes[1, 2], axes[1, 3], axes[1, 4], axes[0, 2], axes[0, 3], axes[0, 4],\n",
    "]\n",
    "for i in range(len(AXES)):\n",
    "    AXES[i].contourf(Variable[i], np.linspace(0, 6000, 100), cmap='Greys_r')\n",
    "\n",
    "\n",
    "for ax in np.ravel(axes):\n",
    "    ax.axis('off')\n",
    "    plt.setp(ax.get_xticklabels(), visible=False)\n",
    "    plt.setp(ax.get_yticklabels(), visible=False)\n",
    "\n",
    "plt.show()"
   ]
  },
  {
   "cell_type": "code",
   "execution_count": null,
   "id": "83c1d591-2b6e-4794-8756-fefb30e7756d",
   "metadata": {},
   "outputs": [],
   "source": []
  },
  {
   "cell_type": "markdown",
   "id": "80a91ad4-a20f-4c10-8895-e8b7d104aad8",
   "metadata": {},
   "source": [
    "<span style='font-family:serif'> <font size=\"5.5\"><span style='color:#0066cc'> **Plot another Variable**"
   ]
  },
  {
   "cell_type": "code",
   "execution_count": null,
   "id": "dbe1ba51-2c98-45e1-9ae4-91d51672ebab",
   "metadata": {},
   "outputs": [],
   "source": []
  },
  {
   "cell_type": "markdown",
   "id": "c0b48da6-c88a-40af-a8fb-e23b9d2bb3b0",
   "metadata": {},
   "source": [
    "<span style='font-family:serif'> <font size=\"5.5\"><span style='color:#0066cc'> **Plot with corrected Topology**"
   ]
  },
  {
   "cell_type": "code",
   "execution_count": null,
   "id": "b0a9b1cf-76f9-457e-b1dc-0bcdabe19aae",
   "metadata": {},
   "outputs": [],
   "source": [
    "fig, axes = plt.subplots(nrows=4, ncols=4, figsize=(8, 8), gridspec_kw={'hspace':0.01, 'wspace':0.01})\n",
    "AXES_NR = [\n",
    "    axes[3, 0], axes[2, 0], axes[1, 0], axes[3, 1], axes[2, 1], axes[1, 1],\n",
    "]\n",
    "AXES_CAP = [axes[0, 0]]\n",
    "AXES_R = [\n",
    "    axes[1, 2], axes[2, 2], axes[3, 2], axes[1, 3], axes[2, 3], axes[3, 3],\n",
    "]\n",
    "for i in range(len(AXES_NR)):\n",
    "    AXES_NR[i].contourf(Variable[i], np.linspace(0, 6000, 100), cmap='Greys_r')\n",
    "\n",
    "for i in range(len(AXES_CAP)):\n",
    "    AXES_CAP[i].contourf(Variable[6].transpose()[:, ::-1], np.linspace(0, 6000, 100), cmap='Greys_r')\n",
    "\n",
    "for i in range(len(AXES_R)):\n",
    "    AXES_R[i].contourf(Variable[7+i].transpose()[::-1, :], np.linspace(0, 6000, 100), cmap='Greys_r')\n",
    "\n",
    "\n",
    "for ax in np.ravel(axes):\n",
    "    ax.axis('off')\n",
    "    plt.setp(ax.get_xticklabels(), visible=False)\n",
    "    plt.setp(ax.get_yticklabels(), visible=False)\n",
    "\n",
    "plt.show()"
   ]
  },
  {
   "cell_type": "code",
   "execution_count": null,
   "id": "4820ed15-edcd-42cd-89d3-d30c172034c4",
   "metadata": {},
   "outputs": [],
   "source": []
  },
  {
   "cell_type": "markdown",
   "id": "9af24ff0-cf2f-4871-b271-90a0036761f8",
   "metadata": {},
   "source": [
    "<span style='font-family:serif'> <font size=\"5.5\"><span style='color:#0066cc'> **Plot another Variable**\n",
    "\n",
    "- <font size=\"3\"> Inspect attributes to understand what these variables\n",
    "- <font size=\"3\"> Make sure to correct for missing values (`decode`)"
   ]
  },
  {
   "cell_type": "code",
   "execution_count": null,
   "id": "b081a8e0-bb8f-412d-a2d4-ff46db43c179",
   "metadata": {},
   "outputs": [],
   "source": []
  },
  {
   "cell_type": "code",
   "execution_count": null,
   "id": "95d1c852-22f4-4583-89d5-0cae157f864d",
   "metadata": {},
   "outputs": [],
   "source": []
  },
  {
   "cell_type": "markdown",
   "id": "19c89fce-81f2-4739-afc9-5f42c9b1b02b",
   "metadata": {},
   "source": [
    "<span style='font-family:serif'> <font size=\"5.5\"><span style='color:#0066cc'> **Use xarray to aggregate all Temperature for the entire URLs**\n",
    "\n"
   ]
  },
  {
   "cell_type": "code",
   "execution_count": null,
   "id": "33e95466-58e4-4ba6-9f25-1e6e99c990f1",
   "metadata": {},
   "outputs": [],
   "source": [
    "import xarray as xr"
   ]
  },
  {
   "cell_type": "code",
   "execution_count": null,
   "id": "19bb0013-a927-436e-b1fb-52734eaae820",
   "metadata": {},
   "outputs": [],
   "source": [
    "# Start with a single one\n",
    "Temp_2017_base = \"dap4://opendap.earthdata.nasa.gov/providers/POCLOUD/collections/ECCO%20Ocean%20Temperature%20and%20Salinity%20-%20Monthly%20Mean%20llc90%20Grid%20(Version%204%20Release%204)/granules/OCEAN_TEMPERATURE_SALINITY_mon_mean_2017-\"\n",
    "month = '01'\n",
    "end_ = '_ECCO_V4r4_native_llc0090'\n",
    "Temp_2017 = Temp_2017_base + month + end_\n"
   ]
  },
  {
   "cell_type": "code",
   "execution_count": null,
   "id": "9a4e3fce-b1aa-4e83-9847-a3369ba7321f",
   "metadata": {},
   "outputs": [],
   "source": [
    "temp_ds = open_url(Temp_2017, session=my_session)"
   ]
  },
  {
   "cell_type": "code",
   "execution_count": null,
   "id": "988938d7-31f3-470f-a14a-43f399b1f026",
   "metadata": {},
   "outputs": [],
   "source": [
    "temp_ds.tree()"
   ]
  },
  {
   "cell_type": "code",
   "execution_count": null,
   "id": "b3029dba-0924-41bb-8d68-dff523851c0d",
   "metadata": {},
   "outputs": [],
   "source": []
  },
  {
   "cell_type": "markdown",
   "id": "93c37b89-84eb-4b3b-ba98-face818b67ea",
   "metadata": {},
   "source": [
    "<span style='font-family:serif'> <font size=\"5.5\"><span style='color:#0066cc'> **Add a Constraint expression to the URL to ONLY retrieve THETA**\n",
    "\n",
    "<font size=\"3\"> You can do that by appending to the <base_URL> the CE syntax:\n",
    "\n",
    "```python\n",
    "<base_URL>?dap4.ce=/<VarName>\n",
    "```\n",
    "\n",
    "<font size=\"3\"> where `<VarName>` is the name of the Array you want to keep"
   ]
  },
  {
   "cell_type": "code",
   "execution_count": null,
   "id": "882aae49-af95-4a45-acbf-645a93ff4133",
   "metadata": {},
   "outputs": [],
   "source": [
    "%%time\n",
    "temp_ds = open_url(Temp_2017+'?dap4.ce=/THETA', session=my_session)"
   ]
  },
  {
   "cell_type": "code",
   "execution_count": null,
   "id": "aa9994bb-cbbc-4586-84da-0d0d5440d000",
   "metadata": {},
   "outputs": [],
   "source": [
    "temp_ds.tree()"
   ]
  },
  {
   "cell_type": "code",
   "execution_count": null,
   "id": "fe3a819d-0c40-4301-9d57-51f395769195",
   "metadata": {},
   "outputs": [],
   "source": [
    "temp_ds"
   ]
  },
  {
   "cell_type": "code",
   "execution_count": null,
   "id": "304f87c6-3965-49e2-9d75-20c3d4ec52ec",
   "metadata": {},
   "outputs": [],
   "source": [
    "%%time\n",
    "dataset = xr.open_dataset(Temp_2017, engine='pydap', session=my_session)"
   ]
  },
  {
   "cell_type": "code",
   "execution_count": null,
   "id": "29996e3f-79e2-44ee-af2a-f9b5259c7ce0",
   "metadata": {},
   "outputs": [],
   "source": [
    "dataset"
   ]
  },
  {
   "cell_type": "markdown",
   "id": "f5c8df9c-79c4-4a38-a59e-1f454d25eeea",
   "metadata": {},
   "source": [
    "<font size=\"5\"><span style='color:#0066cc'> **NOTE**<span style='color:black'> with xarray - need to include all dimensions associated with THETA in the constraint expression.\n"
   ]
  },
  {
   "cell_type": "code",
   "execution_count": null,
   "id": "6dc231c5-e630-4e6c-8c32-86fab77176d7",
   "metadata": {},
   "outputs": [],
   "source": [
    "%%time\n",
    "CE = '?dap4.ce=/THETA;/SALT;/tile;/j;/k;/i;/time'\n",
    "dataset = xr.open_dataset(Temp_2017+CE, engine='pydap', session=my_session)"
   ]
  },
  {
   "cell_type": "markdown",
   "id": "a9945827-c20f-4a84-b82b-a4912569345e",
   "metadata": {},
   "source": [
    "<font size=\"5\"><span style='color:#0066cc'> **Create a list of URLs that spans the entire 2017**<span style='color:black'> \n",
    "```python\n",
    "[f'-{i:02}' for i in range(1, 13)]\n",
    "```\n",
    "\n",
    "<font size=\"3.5\"><span style='color:#0066cc'>**NOTE**<font size=\"3.5\"><span style='color:black'>: with xarray - need to include all dimensions associated with THETA in the constraint expression.\n",
    ":\n",
    "\n"
   ]
  },
  {
   "cell_type": "code",
   "execution_count": null,
   "id": "6f8be0b1-2de6-49af-9394-aab13106ae35",
   "metadata": {},
   "outputs": [],
   "source": [
    "Temp_2017 = [Temp_2017_base + f'{i:02}' + end_+CE for i in range(1, 13)]"
   ]
  },
  {
   "cell_type": "code",
   "execution_count": null,
   "id": "fbca5da4-ced4-4c5a-a590-e4f582acbeca",
   "metadata": {},
   "outputs": [],
   "source": [
    "%%time\n",
    "xr.open_mfdataset(Temp_2017, engine='pydap', session=my_session, parallel=True, chunks={'time':1})"
   ]
  },
  {
   "cell_type": "markdown",
   "id": "72e6cb17-09ae-4b40-9df6-52111fa93f0d",
   "metadata": {},
   "source": [
    "<font size=\"5\"><span style='color:#0066cc'>**Exercise**\n",
    "\n",
    "- <font size=\"3.5\"><span style='color:black'> Create an `xarray.Dataset` for Temperature (`THETA`) and Salinity (`SALT`) for years/months available\n",
    "- <font size=\"3.5\"><span style='color:black'> Make some surface maps to visualize these variables in the native and corrected topology."
   ]
  },
  {
   "cell_type": "code",
   "execution_count": null,
   "id": "9fba9175-153d-48f5-b202-ac0dd57029cf",
   "metadata": {},
   "outputs": [],
   "source": []
  }
 ],
 "metadata": {
  "kernelspec": {
   "display_name": "Python 3 (ipykernel)",
   "language": "python",
   "name": "python3"
  },
  "language_info": {
   "codemirror_mode": {
    "name": "ipython",
    "version": 3
   },
   "file_extension": ".py",
   "mimetype": "text/x-python",
   "name": "python",
   "nbconvert_exporter": "python",
   "pygments_lexer": "ipython3",
   "version": "3.10.14"
  }
 },
 "nbformat": 4,
 "nbformat_minor": 5
}
