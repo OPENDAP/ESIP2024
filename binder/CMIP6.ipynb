{
 "cells": [
  {
   "cell_type": "markdown",
   "id": "51e83944-0a85-499d-aa5e-241697cb1c2e",
   "metadata": {},
   "source": [
    "<span style='color:#009999'> <span style='font-family:serif'> <font size=\"15\"> **CMIP6** - Coupled Model Intercomparison Project Phase 6\n",
    "\n",
    "<img src=\"img/Surface_Temperature.png\" alt=\"drawing\" width=\"750\"/>    \n",
    "\n",
    "\n",
    "<span style='color:#ff6666'><font size=\"5\">**Additional Requirements**\n",
    "\n",
    "- <font size=\"3\"><span style='color:Black'> None.\n",
    "\n",
    "\n",
    " <span style='color:#ff6666'><font size=\"5\"> **Objectives**\n",
    "- <font size=\"3\"><span style='color:Black'> To demonstrate remote access to CMIP data available through the <font size=\"3.5\"><span style='color:#0066cc'>**Earth System Grid Federation** <font size=\"3.5\"><span style='color:black'> [ESGF](https://aims2.llnl.gov/search/cmip6/) Portal.\n",
    "- <font size=\"3\"><span style='color:Black'> To access and subset remote data using the DAP2 Protocol.\n",
    "- <font size=\"3\"><span style='color:Black'> Understand the subtle differences between DAP2 and DAP4.\n",
    "- <font size=\"3\"><span style='color:Black'> To identify when an OPeNDAP server only implements DAP2.\n",
    "\n",
    "\n",
    "\n",
    "<span style='color:#ff6666'><font size=\"5\"> **Browsing Data:**\n",
    "\n",
    "The <font size=\"3.5\"><span style='color:#0066cc'>**Earth System Grid Federation** <font size=\"3.5\"><span style='color:black'> [ESGF](https://aims2.llnl.gov/search/cmip6/) Contains a broad range of model output (e.g, CMIP3, CMIP5, [CMIP6](https://pcmdi.llnl.gov/CMIP6/), E3SM) from which you can obtain OPeNDAP URLs for data variables. \n",
    "\n",
    "The <font size=\"3.5\"> To access the ESGF Node and browse data [click here](https://aims2.llnl.gov/search/cmip6/).\n",
    "\n",
    "<img src=\"img/ESGF.png\" alt=\"drawing\" width=\"750\"/>    \n",
    "\n"
   ]
  },
  {
   "cell_type": "code",
   "execution_count": null,
   "id": "dccc02e0-6ace-4c8d-a3bd-c0c48131219a",
   "metadata": {},
   "outputs": [],
   "source": [
    "import matplotlib.pyplot as plt\n",
    "import numpy as np\n",
    "from pydap.client import open_url\n",
    "import cartopy.crs as ccrs"
   ]
  },
  {
   "cell_type": "markdown",
   "id": "63e91536-e6d4-498e-8afd-3d29d97dcce8",
   "metadata": {},
   "source": [
    "<span style='font-family:serif'> <font size=\"5.5\"><span style='color:#0066cc'> **CMIP6 Access via OPeNDAP**\n",
    "\n",
    "<font size=\"3.5\">You can also directly inspect a THREDDS catalog for [CMIP6](https://crd-esgf-drc.ec.gc.ca/thredds/catalog/esgB_dataroot/AR6/CMIP6/catalog.html). For example, you can navigate to `CDRMIP/CCCma/CanESM5/esm-pi-cdr-pulse/r2i1p2f1/Eday/ts/gn/v20190429` and access [ts data](https://crd-esgf-drc.ec.gc.ca/thredds/dodsC/esgB_dataroot/AR6/CMIP6/CDRMIP/CCCma/CanESM5/esm-pi-cdr-pulse/r2i1p2f1/Eday/ts/gn/v20190429/ts_Eday_CanESM5_esm-pi-cdr-pulse_r2i1p2f1_gn_54510101-56501231.nc.html) via OPeNDAP DAP2 protocol.\n",
    "\n"
   ]
  },
  {
   "cell_type": "code",
   "execution_count": null,
   "id": "b6a2ae7b-16cb-4133-bdb0-e34e95b0bd66",
   "metadata": {},
   "outputs": [],
   "source": [
    "url = \"https://crd-esgf-drc.ec.gc.ca/thredds/dodsC/esgB_dataroot/AR6/CMIP6/CDRMIP/CCCma/CanESM5/esm-pi-cdr-pulse/r2i1p2f1/Eday/ts/gn/v20190429/ts_Eday_CanESM5_esm-pi-cdr-pulse_r2i1p2f1_gn_54510101-56501231.nc\""
   ]
  },
  {
   "cell_type": "markdown",
   "id": "d1df9ddd-96a8-4b2c-be60-79dbc2ad4d71",
   "metadata": {},
   "source": [
    "<span style='font-family:serif'> <font size=\"5.5\"><span style='color:#0066cc'> **Create dataset access via pydap**\n",
    "\n",
    "- <font size=\"3.5\"> By default `protocol='dap2'`, however the default behavior may change in the future.\n"
   ]
  },
  {
   "cell_type": "code",
   "execution_count": null,
   "id": "064952fb-9d43-4bd2-8a6d-8b38ef529511",
   "metadata": {},
   "outputs": [],
   "source": [
    "%%time\n",
    "ds = open_url(url, protocol='dap2')"
   ]
  },
  {
   "cell_type": "code",
   "execution_count": null,
   "id": "dc74b87b-e94f-4543-81ec-f305f661fc16",
   "metadata": {},
   "outputs": [],
   "source": [
    "ds.tree()"
   ]
  },
  {
   "cell_type": "code",
   "execution_count": null,
   "id": "ff509136-1522-44e9-9752-e469d18872b7",
   "metadata": {},
   "outputs": [],
   "source": [
    "print('Dataset memory user [GBs, uncompressed]: ', ds.nbytes/1e9)"
   ]
  },
  {
   "cell_type": "markdown",
   "id": "50e281f6-48eb-42e3-9c93-a35dc61c8a18",
   "metadata": {},
   "source": [
    "<span style='font-family:serif'> <font size=\"5.5\"><span style='color:#0066cc'> **Inspect single variable**\n",
    "\n"
   ]
  },
  {
   "cell_type": "code",
   "execution_count": null,
   "id": "7455c1d8-dd95-42d6-9f26-6421fb86f7fa",
   "metadata": {},
   "outputs": [],
   "source": [
    "ts = ds['ts']\n",
    "ts"
   ]
  },
  {
   "cell_type": "markdown",
   "id": "47171575-5fd2-4605-8db4-f666d3ed1485",
   "metadata": {},
   "source": [
    "<span style='font-family:serif'> <font size=\"5.5\"><span style='color:#0066cc'> **Grid Arrays**\n",
    "\n",
    "-  <font size=\"3.5\"> No longer implemented in `DAP4`. These carry copies of dimensions/coverage, and can be considered self-contained.\n",
    "-  <font size=\"3.5\"> Attempting to download into memory `ts` also downloads `time`, `lat`, `lon`.\n",
    "-  <font size=\"3.5\"> Attributes sit the `GridType` level. For example:\n",
    "\n",
    "```python\n",
    "ds['ts'].attributes\n",
    "```\n",
    "<font size=\"3.5\"> and\n",
    "```python\n",
    "ds['ts']['ts'].attributes\n",
    "```\n",
    "<font size=\"3.5\"> yield different results.\n"
   ]
  },
  {
   "cell_type": "code",
   "execution_count": null,
   "id": "e82d129d-17fa-4927-a257-7390b10fcce6",
   "metadata": {},
   "outputs": [],
   "source": [
    "def decode(variable) -> np.ndarray:\n",
    "    \"\"\"Decodes the variable BaseType according with atributes:\n",
    "        _FillValue\n",
    "        scale_factor\n",
    "\n",
    "    Parameters:\n",
    "        variable: BaseType (pydap model)\n",
    "    \"\"\"\n",
    "    import pydap\n",
    "    scale_factor = 1\n",
    "    _Fillvalue = None\n",
    "\n",
    "    if 'scale_factor' in variable.attributes:\n",
    "        scale_factor = variable.scale_factor\n",
    "    if '_FillValue' in variable.attributes:\n",
    "        if isinstance(variable, pydap.model.GridType):\n",
    "            data = np.where(variable.array.data == variable._FillValue, np.nan, variable.array.data) \n",
    "        elif isinstance(variable, pydap.model.BaseType):\n",
    "            data = np.where(variable.data == variable._FillValue, np.nan, variable.data)    \n",
    "    else:\n",
    "        data = variable.data\n",
    "    return scale_factor * data"
   ]
  },
  {
   "cell_type": "code",
   "execution_count": null,
   "id": "11806c16-6353-4a43-83f6-288a4eb40e90",
   "metadata": {},
   "outputs": [],
   "source": [
    "ts.tree()"
   ]
  },
  {
   "cell_type": "markdown",
   "id": "db899209-ae82-48e9-8a5f-c5706d6ea3ad",
   "metadata": {},
   "source": [
    "<span style='color:#ff6666'><font size=\"5\"> **Exercise**\n",
    "\n",
    "<font size=\"3.5\"><span style='color:black'> Make a surface map of a variable (say `ts` in the example), for `time=0`. You can do that in two ways:\n",
    "\n",
    "\n",
    "- <font size=\"3.5\"><span style='color:black'> Download the Array `ts` into memory from the original URL via pydap (`GridType` array)\n",
    "- <font size=\"3.5\"><span style='color:black'> Append a Constraint Expression (CE) to the original `dataURL` only download the data you want. You can do this interactively in the DAP response form of the dataset. Simply paste original url `<dataURL>+'.html'` onto a browser to view the DAP response form, and then there select only a single time index value.\n",
    "\n",
    "\n",
    "\n",
    "<font size=\"3.5\"><span style='color:black'> **NOTE**: When making a plot, check for missing values, scale factors, units.\n",
    "\n",
    "\n",
    "\n"
   ]
  },
  {
   "cell_type": "code",
   "execution_count": null,
   "id": "e647afbb-2969-4804-a113-8f057e745729",
   "metadata": {},
   "outputs": [],
   "source": []
  },
  {
   "cell_type": "markdown",
   "id": "972a2a36-4410-4cc9-b268-99a845e8bb8a",
   "metadata": {},
   "source": [
    "<span style='font-family:serif'> <font size=\"5.5\"><span style='color:#0066cc'> **pydap approach:**\n",
    "\n",
    "- <font size=\"3.5\"> **NOTE** Some Data providers specify a limit to how much data can be downloaded at once. This upper value limit can be configured within any OPeNDAP server.\n"
   ]
  },
  {
   "cell_type": "code",
   "execution_count": null,
   "id": "0bd9d695-2e8c-40a7-946c-a0d1325f4f73",
   "metadata": {},
   "outputs": [],
   "source": [
    "%%time\n",
    "# Attempting to download the entire GridType triggers an error on the server side.\n",
    "GTS = ds['ts'][:]\n",
    "GTS"
   ]
  },
  {
   "cell_type": "code",
   "execution_count": null,
   "id": "437d0a45-1209-4bb2-99b3-37b49f41bc30",
   "metadata": {},
   "outputs": [],
   "source": [
    "ds['ts'].shape"
   ]
  },
  {
   "cell_type": "code",
   "execution_count": null,
   "id": "46d73e0e-7503-4c6e-9e2b-b9aae96333ae",
   "metadata": {},
   "outputs": [],
   "source": [
    "%%time\n",
    "# download the entire GridType, single snapshot\n",
    "GTS = ds['ts'][0, :, :]\n",
    "GTS"
   ]
  },
  {
   "cell_type": "code",
   "execution_count": null,
   "id": "f35309dc-bf11-40de-b9be-cee969c97b11",
   "metadata": {},
   "outputs": [],
   "source": [
    "GTS.attributes"
   ]
  },
  {
   "cell_type": "code",
   "execution_count": null,
   "id": "8069f326-aa19-432a-ba97-54f8edd0edf5",
   "metadata": {},
   "outputs": [],
   "source": [
    "GTS.shape"
   ]
  },
  {
   "cell_type": "code",
   "execution_count": null,
   "id": "9a0d7e8f-7d6c-4aed-94ab-dbb3ef7c775f",
   "metadata": {},
   "outputs": [],
   "source": [
    "len(GTS.data), type(GTS.data)"
   ]
  },
  {
   "cell_type": "markdown",
   "id": "3537914c-6259-44a4-bc73-f8ef3a6ffb3e",
   "metadata": {},
   "source": [
    "<span style='color:#ff6666'><font size=\"5\"> **Question**:\n",
    "\n",
    "<font size=\"3.5\"> Why\n",
    "\n",
    "```python\n",
    "# why are the two different?\n",
    "len(GTS.data) != GTS.shape ?? \n",
    "```\n",
    "                                              \n",
    "<font size=\"3.5\"> Where is the data? Try:\n",
    "\n",
    "```python\n",
    "[GTS.data[i].shape for i in range(len(GTS.data))]\n",
    "```\n"
   ]
  },
  {
   "cell_type": "code",
   "execution_count": null,
   "id": "1690d0e3-bb3e-40a8-9b96-234ebbbdec08",
   "metadata": {},
   "outputs": [],
   "source": []
  },
  {
   "cell_type": "code",
   "execution_count": null,
   "id": "e7fe0c9d-dcb9-4f65-ae09-387137d69200",
   "metadata": {},
   "outputs": [],
   "source": [
    "%%time\n",
    "# download the only Array, single snapshot\n",
    "TS = ds['ts']['ts'][0, :, :]\n",
    "TS"
   ]
  },
  {
   "cell_type": "code",
   "execution_count": null,
   "id": "9ea189f7-df2c-4208-bb30-7422811d8044",
   "metadata": {},
   "outputs": [],
   "source": [
    "TS.attributes"
   ]
  },
  {
   "cell_type": "code",
   "execution_count": null,
   "id": "042b04ca-0c4f-40cc-9fd4-82b6d14ba89b",
   "metadata": {},
   "outputs": [],
   "source": [
    "Lon, Lat = np.meshgrid(GTS['lon'].data, GTS['lat'].data)"
   ]
  },
  {
   "cell_type": "code",
   "execution_count": null,
   "id": "836f8d0c-6578-4827-9b05-d414196db29d",
   "metadata": {},
   "outputs": [],
   "source": [
    "plt.figure(figsize=(15, 5))\n",
    "ax = plt.axes(projection=ccrs.Mollweide())\n",
    "ax.set_global()\n",
    "ax.coastlines()\n",
    "ax.contourf(Lon, Lat, np.squeeze(decode(GTS)), 200, transform=ccrs.PlateCarree(), cmap='jet')\n",
    "plt.show()"
   ]
  },
  {
   "cell_type": "markdown",
   "id": "4eb45bef-7532-499e-a8ed-9410e01ff50b",
   "metadata": {},
   "source": [
    "<span style='color:#ff6666'><font size=\"5\"> **Exercise**:\n",
    "\n",
    "- <font size=\"3.5\"> Browse through the THREDDS catalog, an explore another flow variable. If you don't want to explore, you can inspect the Air Temperature variable with dataURL listed below:\n",
    "\n",
    "```python\n",
    "url = \"https://crd-esgf-drc.ec.gc.ca/thredds/dodsC/esgB_dataroot/AR6/CMIP6/CDRMIP/CCCma/CanESM5/1pctCO2-cdr/r1i1p2f1/Amon/ta/gn/v20190429/ta_Amon_CanESM5_1pctCO2-cdr_r1i1p2f1_gn_199101-219012.nc\"\n",
    "```\n"
   ]
  },
  {
   "cell_type": "code",
   "execution_count": null,
   "id": "76b134b9-181d-4a55-b1be-5c8cec2f07a5",
   "metadata": {},
   "outputs": [],
   "source": []
  }
 ],
 "metadata": {
  "kernelspec": {
   "display_name": "Python 3 (ipykernel)",
   "language": "python",
   "name": "python3"
  },
  "language_info": {
   "codemirror_mode": {
    "name": "ipython",
    "version": 3
   },
   "file_extension": ".py",
   "mimetype": "text/x-python",
   "name": "python",
   "nbconvert_exporter": "python",
   "pygments_lexer": "ipython3",
   "version": "3.10.14"
  }
 },
 "nbformat": 4,
 "nbformat_minor": 5
}
