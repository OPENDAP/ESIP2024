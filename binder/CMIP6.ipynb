{
 "cells": [
  {
   "cell_type": "markdown",
   "id": "51e83944-0a85-499d-aa5e-241697cb1c2e",
   "metadata": {},
   "source": [
    "<span style='color:#009999'> <span style='font-family:serif'> <font size=\"15\"> **CMIP6** - Coupled Model Intercomparison Project Phase 6\n",
    "\n",
    "<span style='color:#ff6666'><font size=\"5\">**Additional Requirements**\n",
    "\n",
    "- <font size=\"3\"><span style='color:Black'> None.\n",
    "\n",
    "\n",
    " <span style='color:#ff6666'><font size=\"5\"> **Objectives**\n",
    "- <font size=\"3\"><span style='color:Black'> To demonstrate remote access via tokens to ESGF Portal.\n",
    "- <font size=\"3\"><span style='color:Black'> To access and subset remote data implementing the DAP2 Protocol.\n",
    "- <font size=\"3\"><span style='color:Black'> Understand the subtle differences between DAP2 and DAP4.\n",
    "- <font size=\"3\"><span style='color:Black'> To identify when an OPeNDAP server only implements DAP2.\n",
    "\n",
    "\n",
    "\n",
    "<span style='color:#ff6666'><font size=\"5\"> **Browsing Data:**\n",
    "\n",
    "The <font size=\"3.5\"><span style='color:#0066cc'>**Earth System Grid Federation** <font size=\"3.5\"><span style='color:black'> [ESGF](https://aims2.llnl.gov/search/cmip6/) Contains a broad of model output (e.g, CMIP3, CMIP5, [CMIP6](https://pcmdi.llnl.gov/CMIP6/), E3SM) from which you can obtain OPeNDAP URLs for data variables. TO access the ESGF Node and browse data [click here](https://aims2.llnl.gov/search/cmip6/).\n",
    "\n",
    "<img src=\"img/ESGF.png\" alt=\"drawing\" width=\"750\"/>    \n",
    "\n"
   ]
  },
  {
   "cell_type": "code",
   "execution_count": 1,
   "id": "dccc02e0-6ace-4c8d-a3bd-c0c48131219a",
   "metadata": {},
   "outputs": [],
   "source": [
    "import matplotlib.pyplot as plt\n",
    "import numpy as np\n",
    "from pydap.client import open_url\n",
    "import cartopy.crs as ccrs"
   ]
  },
  {
   "cell_type": "markdown",
   "id": "63e91536-e6d4-498e-8afd-3d29d97dcce8",
   "metadata": {},
   "source": [
    "<span style='font-family:serif'> <font size=\"5.5\"><span style='color:#0066cc'> **CMIP6 Access via OPeNDAP**\n",
    "\n",
    "<font size=\"3.5\">You can also directly inspect a THREDDS catalog for [CMIP6](https://crd-esgf-drc.ec.gc.ca/thredds/catalog/esgB_dataroot/AR6/CMIP6/catalog.html). For example, you can navigate to `CDRMIP/CCCma/CanESM5/esm-pi-cdr-pulse/r2i1p2f1/Eday/ts/gn/v20190429` and access [ts data](https://crd-esgf-drc.ec.gc.ca/thredds/dodsC/esgB_dataroot/AR6/CMIP6/CDRMIP/CCCma/CanESM5/esm-pi-cdr-pulse/r2i1p2f1/Eday/ts/gn/v20190429/ts_Eday_CanESM5_esm-pi-cdr-pulse_r2i1p2f1_gn_54510101-56501231.nc.html) via OPeNDAP DAP2 protocol.\n",
    "\n"
   ]
  },
  {
   "cell_type": "code",
   "execution_count": 2,
   "id": "b6a2ae7b-16cb-4133-bdb0-e34e95b0bd66",
   "metadata": {},
   "outputs": [],
   "source": [
    "url = \"https://crd-esgf-drc.ec.gc.ca/thredds/dodsC/esgB_dataroot/AR6/CMIP6/CDRMIP/CCCma/CanESM5/esm-pi-cdr-pulse/r2i1p2f1/Eday/ts/gn/v20190429/ts_Eday_CanESM5_esm-pi-cdr-pulse_r2i1p2f1_gn_54510101-56501231.nc\"\n"
   ]
  },
  {
   "cell_type": "markdown",
   "id": "d1df9ddd-96a8-4b2c-be60-79dbc2ad4d71",
   "metadata": {},
   "source": [
    "<span style='font-family:serif'> <font size=\"5.5\"><span style='color:#0066cc'> **Create dataset access via pydap**\n",
    "\n",
    "-  <font size=\"3.5\"> By default protocol='dap2', however this behavior may change in the nearby future.\n"
   ]
  },
  {
   "cell_type": "code",
   "execution_count": 3,
   "id": "064952fb-9d43-4bd2-8a6d-8b38ef529511",
   "metadata": {},
   "outputs": [
    {
     "name": "stdout",
     "output_type": "stream",
     "text": [
      "CPU times: user 77.2 ms, sys: 10.3 ms, total: 87.5 ms\n",
      "Wall time: 1.19 s\n"
     ]
    }
   ],
   "source": [
    "%%time\n",
    "ds = open_url(url, protocol='dap2')"
   ]
  },
  {
   "cell_type": "code",
   "execution_count": 4,
   "id": "dc74b87b-e94f-4543-81ec-f305f661fc16",
   "metadata": {},
   "outputs": [
    {
     "name": "stdout",
     "output_type": "stream",
     "text": [
      ".esgB_dataroot/AR6/CMIP6/CDRMIP/CCCma/CanESM5/esm-pi-cdr-pulse/r2i1p2f1/Eday/ts/gn/v20190429/ts_Eday_CanESM5_esm-pi-cdr-pulse_r2i1p2f1_gn_54510101-56501231.nc\n",
      "├──time\n",
      "├──time_bnds\n",
      "├──lat\n",
      "├──lat_bnds\n",
      "├──lon\n",
      "├──lon_bnds\n",
      "└──ts\n",
      "   ├──ts\n",
      "   ├──time\n",
      "   ├──lat\n",
      "   └──lon\n"
     ]
    }
   ],
   "source": [
    "ds.tree()"
   ]
  },
  {
   "cell_type": "code",
   "execution_count": 5,
   "id": "ff509136-1522-44e9-9752-e469d18872b7",
   "metadata": {},
   "outputs": [
    {
     "name": "stdout",
     "output_type": "stream",
     "text": [
      "Dataset memory user [GBs, uncompressed]:  2.394406144\n"
     ]
    }
   ],
   "source": [
    "print('Dataset memory user [GBs, uncompressed]: ', ds.nbytes/1e9)"
   ]
  },
  {
   "cell_type": "markdown",
   "id": "50e281f6-48eb-42e3-9c93-a35dc61c8a18",
   "metadata": {},
   "source": [
    "<span style='font-family:serif'> <font size=\"5.5\"><span style='color:#0066cc'> **Inspect single variable**\n",
    "\n"
   ]
  },
  {
   "cell_type": "code",
   "execution_count": 6,
   "id": "7455c1d8-dd95-42d6-9f26-6421fb86f7fa",
   "metadata": {},
   "outputs": [],
   "source": [
    "ts = ds['ts']"
   ]
  },
  {
   "cell_type": "code",
   "execution_count": 7,
   "id": "883db669-d219-435f-aabe-86dc145760c2",
   "metadata": {},
   "outputs": [
    {
     "data": {
      "text/plain": [
       "<GridType with array 'ts' and maps 'time', 'lat', 'lon'>"
      ]
     },
     "execution_count": 7,
     "metadata": {},
     "output_type": "execute_result"
    }
   ],
   "source": [
    "ts"
   ]
  },
  {
   "cell_type": "markdown",
   "id": "47171575-5fd2-4605-8db4-f666d3ed1485",
   "metadata": {},
   "source": [
    "<span style='font-family:serif'> <font size=\"5.5\"><span style='color:#0066cc'> **Grid Arrays**\n",
    "\n",
    "-  <font size=\"3.5\"> No longer implemented in DAP4. These carry copies of dimensions/coverage (called `maps`) and the variable of interest.\n",
    "-  <font size=\"3.5\"> Attempting to download into memory only `ts` will also download `time`, `lat`, `lon`.\n",
    "\n",
    "\n"
   ]
  },
  {
   "cell_type": "code",
   "execution_count": 8,
   "id": "e82d129d-17fa-4927-a257-7390b10fcce6",
   "metadata": {},
   "outputs": [
    {
     "data": {
      "text/plain": [
       "{'standard_name': 'surface_temperature',\n",
       " 'long_name': 'Surface Temperature',\n",
       " 'comment': 'Temperature of the lower boundary of the atmosphere',\n",
       " 'units': 'K',\n",
       " 'original_name': 'GT',\n",
       " 'cell_methods': 'area: time: mean',\n",
       " 'cell_measures': 'area: areacella',\n",
       " 'history': '2019-08-20T21:03:55Z altered by CMOR: Reordered dimensions, original order: lat lon time. 2019-08-20T21:03:55Z altered by CMOR: replaced missing value flag (1e+38) and corresponding data with standard missing value (1e+20).',\n",
       " 'missing_value': 1e+20,\n",
       " '_FillValue': 1e+20,\n",
       " '_ChunkSizes': [1, 64, 128]}"
      ]
     },
     "execution_count": 8,
     "metadata": {},
     "output_type": "execute_result"
    }
   ],
   "source": [
    "ts.attributes"
   ]
  },
  {
   "cell_type": "code",
   "execution_count": 9,
   "id": "11806c16-6353-4a43-83f6-288a4eb40e90",
   "metadata": {},
   "outputs": [
    {
     "name": "stdout",
     "output_type": "stream",
     "text": [
      ".ts\n",
      "├──ts\n",
      "├──time\n",
      "├──lat\n",
      "└──lon\n"
     ]
    }
   ],
   "source": [
    "ts.tree()"
   ]
  },
  {
   "cell_type": "markdown",
   "id": "db899209-ae82-48e9-8a5f-c5706d6ea3ad",
   "metadata": {},
   "source": [
    "<span style='font-family:serif'> <font size=\"5.5\"><span style='color:#0066cc'> **Exercise**\n",
    "\n",
    "<font size=\"3.5\"><span style='color:black'> Make a surface map of a variable (say `ts` in the example), for `time=0`. You can do that in two ways:\n",
    "\n",
    "\n",
    "- <font size=\"3.5\"><span style='color:black'> Download the Array `ts` into memory from the original URL via pydap (`GridType` array)\n",
    "- <font size=\"3.5\"><span style='color:black'> Append a Constraint Expression (CE) to the original `dataURL` only download the data you want. You can do this interactively in the DAP response form of the dataset. Simply paste original url `<dataURL>+'.html'` onto a browser to view the DAP response form, and then there select only a single time index value.\n",
    "\n",
    "\n",
    "\n",
    "<font size=\"3.5\"><span style='color:black'> **NOTE**: When making a plot, check for missing values, scale factors, units.\n",
    "\n",
    "\n",
    "\n"
   ]
  },
  {
   "cell_type": "markdown",
   "id": "972a2a36-4410-4cc9-b268-99a845e8bb8a",
   "metadata": {},
   "source": [
    "<span style='font-family:serif'> <font size=\"5.5\"><span style='color:#0066cc'> **pydap approach:**\n",
    "\n",
    "- <font size=\"3.5\"> **NOTE** Some Data providers specify a limit to how much data can be downloaded at once. This upper value limit can be configured within any OPeNDAP server.\n"
   ]
  },
  {
   "cell_type": "code",
   "execution_count": 19,
   "id": "0bd9d695-2e8c-40a7-946c-a0d1325f4f73",
   "metadata": {},
   "outputs": [],
   "source": [
    "%%time\n",
    "# Attempting to download the entire GridType triggers an error on the server side.\n",
    "GTS = ds['ts'][:]\n",
    "GTS"
   ]
  },
  {
   "cell_type": "code",
   "execution_count": 11,
   "id": "437d0a45-1209-4bb2-99b3-37b49f41bc30",
   "metadata": {},
   "outputs": [
    {
     "data": {
      "text/plain": [
       "(73000, 64, 128)"
      ]
     },
     "execution_count": 11,
     "metadata": {},
     "output_type": "execute_result"
    }
   ],
   "source": [
    "ds['ts'].shape"
   ]
  },
  {
   "cell_type": "code",
   "execution_count": 12,
   "id": "46d73e0e-7503-4c6e-9e2b-b9aae96333ae",
   "metadata": {},
   "outputs": [
    {
     "name": "stdout",
     "output_type": "stream",
     "text": [
      "CPU times: user 166 ms, sys: 21.4 ms, total: 188 ms\n",
      "Wall time: 2min 35s\n"
     ]
    },
    {
     "data": {
      "text/plain": [
       "<GridType with array 'ts' and maps 'time', 'lat', 'lon'>"
      ]
     },
     "execution_count": 12,
     "metadata": {},
     "output_type": "execute_result"
    }
   ],
   "source": [
    "%%time\n",
    "# download the entire GridType, single snapshot\n",
    "GTS = ds['ts'][0, :, :]\n",
    "GTS"
   ]
  },
  {
   "cell_type": "code",
   "execution_count": 20,
   "id": "e7fe0c9d-dcb9-4f65-ae09-387137d69200",
   "metadata": {},
   "outputs": [
    {
     "name": "stdout",
     "output_type": "stream",
     "text": [
      "CPU times: user 31.3 ms, sys: 5.61 ms, total: 36.9 ms\n",
      "Wall time: 872 ms\n"
     ]
    },
    {
     "data": {
      "text/plain": [
       "<BaseType with data array([[[248.65997, 248.28497, 248.15997, ..., 249.53497, 249.65997,\n",
       "         249.15997],\n",
       "        [251.65997, 250.78497, 250.53497, ..., 252.65997, 252.40997,\n",
       "         251.65997],\n",
       "        [251.03497, 250.15997, 249.03497, ..., 255.03497, 253.53497,\n",
       "         253.03497],\n",
       "        ...,\n",
       "        [224.5918 , 224.67487, 225.22243, ..., 226.25885, 225.4502 ,\n",
       "         224.54295],\n",
       "        [219.77655, 220.37973, 221.11984, ..., 218.04332, 218.55197,\n",
       "         219.16682],\n",
       "        [220.43169, 220.94601, 221.48468, ..., 220.07048, 219.97438,\n",
       "         220.07361]]], dtype='>f4')>"
      ]
     },
     "execution_count": 20,
     "metadata": {},
     "output_type": "execute_result"
    }
   ],
   "source": [
    "%%time\n",
    "# download the only Array, single snapshot\n",
    "TS = ds['ts']['ts'][0, :, :]\n",
    "TS"
   ]
  },
  {
   "cell_type": "code",
   "execution_count": null,
   "id": "9ea189f7-df2c-4208-bb30-7422811d8044",
   "metadata": {},
   "outputs": [],
   "source": []
  }
 ],
 "metadata": {
  "kernelspec": {
   "display_name": "Python 3 (ipykernel)",
   "language": "python",
   "name": "python3"
  },
  "language_info": {
   "codemirror_mode": {
    "name": "ipython",
    "version": 3
   },
   "file_extension": ".py",
   "mimetype": "text/x-python",
   "name": "python",
   "nbconvert_exporter": "python",
   "pygments_lexer": "ipython3",
   "version": "3.10.14"
  }
 },
 "nbformat": 4,
 "nbformat_minor": 5
}
