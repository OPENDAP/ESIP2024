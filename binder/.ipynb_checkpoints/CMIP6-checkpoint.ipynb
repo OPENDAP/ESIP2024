{
 "cells": [
  {
   "cell_type": "markdown",
   "id": "51e83944-0a85-499d-aa5e-241697cb1c2e",
   "metadata": {},
   "source": [
    "<span style='color:#009999'> <span style='font-family:serif'> <font size=\"15\"> **CMIP6** - Coupled Model Intercomparison Project Phase 6\n",
    "\n",
    "<span style='color:#ff6666'><font size=\"5\">**Additional Requirements**\n",
    "\n",
    "- <font size=\"3\"><span style='color:Black'> None.\n",
    "\n",
    "\n",
    " <span style='color:#ff6666'><font size=\"5\"> **Objectives**\n",
    "- <font size=\"3\"><span style='color:Black'> To demonstrate remote access via tokens to ESGF Portal.\n",
    "- <font size=\"3\"><span style='color:Black'> To access and subset remote data implementing the DAP2 Protocol.\n",
    "- <font size=\"3\"><span style='color:Black'> Understand the subtle differences between DAP2 and DAP4.\n",
    "- <font size=\"3\"><span style='color:Black'> To identify when an OPeNDAP server only implements DAP2.\n",
    "\n",
    "\n",
    "\n",
    "<span style='color:#ff6666'><font size=\"5\"> **Browsing Data:**\n",
    "\n",
    "The <font size=\"3.5\"><span style='color:#0066cc'>**Earth System Grid Federation** <font size=\"3.5\"><span style='color:black'> [ESGF](https://aims2.llnl.gov/search/cmip6/) Contains a broad of model output (e.g, CMIP3, CMIP5, [CMIP6](https://pcmdi.llnl.gov/CMIP6/), E3SM) from which you can obtain OPeNDAP URLs for data variables. TO access the ESGF Node and browse data [click here](https://aims2.llnl.gov/search/cmip6/).\n",
    "\n",
    "<img src=\"img/ESGF.png\" alt=\"drawing\" width=\"750\"/>    \n",
    "\n"
   ]
  },
  {
   "cell_type": "code",
   "execution_count": 6,
   "id": "dccc02e0-6ace-4c8d-a3bd-c0c48131219a",
   "metadata": {},
   "outputs": [],
   "source": [
    "import matplotlib.pyplot as plt\n",
    "import numpy as np\n",
    "from pydap.client import open_url\n",
    "import cartopy.crs as ccrs"
   ]
  },
  {
   "cell_type": "markdown",
   "id": "63e91536-e6d4-498e-8afd-3d29d97dcce8",
   "metadata": {},
   "source": [
    "<span style='font-family:serif'> <font size=\"5.5\"><span style='color:#0066cc'> **CMIP6 Access via OPeNDAP**\n",
    "\n",
    " <font size=\"3.5\">You can also directly inspect a THREDDS catalog for [CMIP6](https://crd-esgf-drc.ec.gc.ca/thredds/catalog/esgB_dataroot/AR6/CMIP6/catalog.html). For example, you can navigate to `CDRMIP/CCCma/CanESM5/esm-pi-cdr-pulse/r2i1p2f1/Eday/ts/gn/v20190429` and access [ts data](https://crd-esgf-drc.ec.gc.ca/thredds/dodsC/esgB_dataroot/AR6/CMIP6/CDRMIP/CCCma/CanESM5/esm-pi-cdr-pulse/r2i1p2f1/Eday/ts/gn/v20190429/ts_Eday_CanESM5_esm-pi-cdr-pulse_r2i1p2f1_gn_54510101-56501231.nc.html) via OPeNDAP DAP2 protocol.\n",
    "\n"
   ]
  },
  {
   "cell_type": "code",
   "execution_count": 7,
   "id": "b6a2ae7b-16cb-4133-bdb0-e34e95b0bd66",
   "metadata": {},
   "outputs": [],
   "source": [
    "url = \"https://crd-esgf-drc.ec.gc.ca/thredds/dodsC/esgB_dataroot/AR6/CMIP6/CDRMIP/CCCma/CanESM5/esm-pi-cdr-pulse/r2i1p2f1/Eday/ts/gn/v20190429/ts_Eday_CanESM5_esm-pi-cdr-pulse_r2i1p2f1_gn_54510101-56501231.nc\"\n"
   ]
  },
  {
   "cell_type": "markdown",
   "id": "d1df9ddd-96a8-4b2c-be60-79dbc2ad4d71",
   "metadata": {},
   "source": [
    "<span style='font-family:serif'> <font size=\"5.5\"><span style='color:#0066cc'> **Create dataset access via pydap**\n",
    "\n",
    "- By default protocol='dap2', however this behavior may change in the nearby future.\n"
   ]
  },
  {
   "cell_type": "code",
   "execution_count": 10,
   "id": "064952fb-9d43-4bd2-8a6d-8b38ef529511",
   "metadata": {},
   "outputs": [
    {
     "name": "stdout",
     "output_type": "stream",
     "text": [
      "CPU times: user 65 ms, sys: 8.59 ms, total: 73.6 ms\n",
      "Wall time: 1.17 s\n"
     ]
    }
   ],
   "source": [
    "%%time\n",
    "ds = open_url(url, protocol='dap2')"
   ]
  },
  {
   "cell_type": "code",
   "execution_count": 11,
   "id": "dc74b87b-e94f-4543-81ec-f305f661fc16",
   "metadata": {},
   "outputs": [
    {
     "name": "stdout",
     "output_type": "stream",
     "text": [
      ".esgB_dataroot/AR6/CMIP6/CDRMIP/CCCma/CanESM5/esm-pi-cdr-pulse/r2i1p2f1/Eday/ts/gn/v20190429/ts_Eday_CanESM5_esm-pi-cdr-pulse_r2i1p2f1_gn_54510101-56501231.nc\n",
      "├──time\n",
      "├──time_bnds\n",
      "├──lat\n",
      "├──lat_bnds\n",
      "├──lon\n",
      "├──lon_bnds\n",
      "└──ts\n",
      "   ├──ts\n",
      "   ├──time\n",
      "   ├──lat\n",
      "   └──lon\n"
     ]
    }
   ],
   "source": [
    "ds.tree()"
   ]
  },
  {
   "cell_type": "code",
   "execution_count": 13,
   "id": "7455c1d8-dd95-42d6-9f26-6421fb86f7fa",
   "metadata": {},
   "outputs": [],
   "source": [
    "ts = ds['ts']"
   ]
  },
  {
   "cell_type": "code",
   "execution_count": 15,
   "id": "883db669-d219-435f-aabe-86dc145760c2",
   "metadata": {},
   "outputs": [
    {
     "data": {
      "text/plain": [
       "<GridType with array 'ts' and maps 'time', 'lat', 'lon'>"
      ]
     },
     "execution_count": 15,
     "metadata": {},
     "output_type": "execute_result"
    }
   ],
   "source": [
    "ts"
   ]
  },
  {
   "cell_type": "code",
   "execution_count": 18,
   "id": "e82d129d-17fa-4927-a257-7390b10fcce6",
   "metadata": {},
   "outputs": [
    {
     "data": {
      "text/plain": [
       "{'standard_name': 'surface_temperature',\n",
       " 'long_name': 'Surface Temperature',\n",
       " 'comment': 'Temperature of the lower boundary of the atmosphere',\n",
       " 'units': 'K',\n",
       " 'original_name': 'GT',\n",
       " 'cell_methods': 'area: time: mean',\n",
       " 'cell_measures': 'area: areacella',\n",
       " 'history': '2019-08-20T21:03:55Z altered by CMOR: Reordered dimensions, original order: lat lon time. 2019-08-20T21:03:55Z altered by CMOR: replaced missing value flag (1e+38) and corresponding data with standard missing value (1e+20).',\n",
       " 'missing_value': 1e+20,\n",
       " '_FillValue': 1e+20,\n",
       " '_ChunkSizes': [1, 64, 128]}"
      ]
     },
     "execution_count": 18,
     "metadata": {},
     "output_type": "execute_result"
    }
   ],
   "source": [
    "ts.attributes"
   ]
  },
  {
   "cell_type": "code",
   "execution_count": 19,
   "id": "11806c16-6353-4a43-83f6-288a4eb40e90",
   "metadata": {},
   "outputs": [
    {
     "name": "stdout",
     "output_type": "stream",
     "text": [
      ".ts\n",
      "├──ts\n",
      "├──time\n",
      "├──lat\n",
      "└──lon\n"
     ]
    }
   ],
   "source": [
    "ts.tree()"
   ]
  },
  {
   "cell_type": "code",
   "execution_count": null,
   "id": "38fa688d-5074-4ea0-a33b-e2a9f9d22082",
   "metadata": {},
   "outputs": [],
   "source": []
  },
  {
   "cell_type": "code",
   "execution_count": 22,
   "id": "be72d3d5-d1d5-4a3e-bfdd-7e52a1a18d0b",
   "metadata": {},
   "outputs": [
    {
     "data": {
      "text/plain": [
       "(73000, 64, 128)"
      ]
     },
     "execution_count": 22,
     "metadata": {},
     "output_type": "execute_result"
    }
   ],
   "source": [
    "ts.shape"
   ]
  }
 ],
 "metadata": {
  "kernelspec": {
   "display_name": "Python 3 (ipykernel)",
   "language": "python",
   "name": "python3"
  },
  "language_info": {
   "codemirror_mode": {
    "name": "ipython",
    "version": 3
   },
   "file_extension": ".py",
   "mimetype": "text/x-python",
   "name": "python",
   "nbconvert_exporter": "python",
   "pygments_lexer": "ipython3",
   "version": "3.10.14"
  }
 },
 "nbformat": 4,
 "nbformat_minor": 5
}
